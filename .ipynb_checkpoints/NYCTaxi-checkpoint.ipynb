{
  "cells": [
    {
      "cell_type": "raw",
      "metadata": {},
      "source": [
        "---\n",
        "title: \"NYCTaxi\"\n",
        "author: \"이민지(2023-202046394)\"\n",
        "format: dashboard\n",
        "execute:\n",
        "  enabled: true\n",
        "  cache: false\n",
        "  freeze: false\n",
        "---"
      ],
      "id": "10c986f7"
    },
    {
      "cell_type": "code",
      "metadata": {},
      "source": [
        "#| output: false\n",
        "import numpy as np\n",
        "import pandas as pd\n",
        "import plotly.express as px\n",
        "import plotly.io as pio\n",
        "import json\n",
        "import requests\n",
        "import pickle\n",
        "\n",
        "pd.options.plotting.backend = \"plotly\"\n",
        "pio.templates.default = \"plotly_white\"\n",
        "\n",
        "df = pd.read_csv(\"https://raw.githubusercontent.com/guebin/DV2023/main/posts/NYCTaxi.csv\").assign(\n",
        "    log_trip_duration = lambda df: np.log(df.trip_duration),\n",
        "    pickup_datetime = lambda df: df.pickup_datetime.apply(pd.to_datetime),\n",
        "    dropoff_datetime = lambda df: df.dropoff_datetime.apply(pd.to_datetime),\n",
        "    dist = lambda df: np.sqrt((df.pickup_latitude-df.dropoff_latitude)**2 + (df.pickup_longitude-df.dropoff_longitude)**2),\n",
        "    #---#\n",
        "    vendor_id = lambda df: df.vendor_id.map({1:'A',2:'B'})\n",
        ").assign(\n",
        "    speed = lambda df: df.dist / df.trip_duration,\n",
        "    pickup_hour = lambda df: df.pickup_datetime.dt.hour,\n",
        "    dropoff_hour = lambda df: df.dropoff_datetime.dt.hour,\n",
        "    dayofweek = lambda df: df.pickup_datetime.dt.dayofweek\n",
        ")\n",
        "df_small = df[::100].reset_index(drop=True)\n",
        "\n",
        "\n",
        "\n",
        "\n",
        "# 1-(1),(2),(3) \n",
        "\n",
        "dayofweek_mapping = {0: '월', 1: '화', 2: '수', 3: '목', 4: '금', 5: '토', 6: '일'}\n",
        "df['dayofweek'] = df['dayofweek'].map(dayofweek_mapping)\n",
        "\n",
        "\n",
        "average_speed_data = df.groupby(['dayofweek', 'pickup_hour'])['speed'].mean().reset_index()\n",
        "\n",
        "\n",
        "fig1= px.density_heatmap(\n",
        "    data_frame=average_speed_data,\n",
        "    x='pickup_hour',\n",
        "    y='dayofweek',\n",
        "    z='speed',\n",
        "    nbinsx=24,\n",
        "    nbinsy=7,\n",
        "    height=300,\n",
        "    labels={'pickup_hour': 'Pickup 시간', 'dayofweek': '요일', 'speed': '평균속력'},\n",
        "    title='요일, 시간에 따른 평균속력 시각화',\n",
        "    category_orders={'dayofweek': ['일', '토', '금', '목', '수', '화', '월']}\n",
        ")\n",
        "\n",
        "\n",
        "\n",
        "average_distance_data = df.groupby(['dayofweek', 'pickup_hour'])['dist'].mean().reset_index()\n",
        "\n",
        "\n",
        "fig2 = px.density_heatmap(\n",
        "    data_frame=average_distance_data,\n",
        "    x='pickup_hour',\n",
        "    y='dayofweek',\n",
        "    z='dist',\n",
        "    nbinsx=24,\n",
        "    nbinsy=7,\n",
        "    height=300,\n",
        "    labels={'pickup_hour': 'Pickup 시간', 'dayofweek': '요일', 'dist': '평균이동거리'},\n",
        "    title='요일, 시간에 따른 평균이동거리 시각화',\n",
        "    category_orders={'dayofweek': ['일', '토', '금', '목', '수', '화', '월']},\n",
        "    color_continuous_scale='Viridis',  # 원하는 색상 스케일로 변경\n",
        ")\n",
        "\n",
        "\n",
        "df_small['speed_category'] = pd.qcut(df_small['speed'], q=4, labels=['매우느림', '조금느림', '조금빠름', '매우빠름'])\n",
        "\n",
        "\n",
        "zoom_level = 11\n",
        "fig3 = px.line_mapbox(\n",
        "    data_frame=df_small,\n",
        "    lat='dropoff_latitude',\n",
        "    lon='dropoff_longitude',\n",
        "    color='speed_category',\n",
        "    line_group='id',\n",
        "    mapbox_style='carto-positron',\n",
        "    zoom=zoom_level,\n",
        "    width=750,\n",
        "    height=600\n",
        ")\n",
        "\n",
        "\n",
        "scatter_data = px.scatter_mapbox(\n",
        "    data_frame=df_small,\n",
        "    lat='dropoff_latitude',\n",
        "    lon='dropoff_longitude',\n",
        "    size='passenger_count',\n",
        "    size_max=10,\n",
        "    color='speed_category',\n",
        "    mapbox_style='carto-positron',\n",
        "    zoom=zoom_level,\n",
        "    width=750,\n",
        "    height=600\n",
        ").data\n",
        "\n",
        "for sd in scatter_data:\n",
        "    fig.add_trace(sd)\n",
        "\n",
        "\n",
        "fig3.update_traces(\n",
        "    line={'width': 1},\n",
        "    opacity=0.8\n",
        ")"
      ],
      "id": "bddcdc3d",
      "execution_count": null,
      "outputs": []
    },
    {
      "cell_type": "markdown",
      "metadata": {},
      "source": [
        "# 기말고사1-(1),(2)\n"
      ],
      "id": "e32853be"
    },
    {
      "cell_type": "code",
      "metadata": {
        "title": "요일,시간에 따른 평균속력 시각화"
      },
      "source": [
        "fig1.show()"
      ],
      "id": "43f6edff",
      "execution_count": null,
      "outputs": []
    },
    {
      "cell_type": "code",
      "metadata": {
        "title": "요일,시간에 따른 평균이동거리 시각화"
      },
      "source": [
        "fig2.show()"
      ],
      "id": "00bdfe5c",
      "execution_count": null,
      "outputs": []
    },
    {
      "cell_type": "markdown",
      "metadata": {},
      "source": [
        "# 기말고사1-(3)\n"
      ],
      "id": "9ff4d5b8"
    },
    {
      "cell_type": "code",
      "metadata": {
        "title": "속력별 경로 시각화"
      },
      "source": [
        "fig3.show(config={'scrollZoom': False})# 속력을 quatile에 따라 4개의 구간으로 나누기"
      ],
      "id": "9c776c14",
      "execution_count": null,
      "outputs": []
    }
  ],
  "metadata": {
    "kernelspec": {
      "name": "python3",
      "language": "python",
      "display_name": "Python 3 (ipykernel)"
    }
  },
  "nbformat": 4,
  "nbformat_minor": 5
}